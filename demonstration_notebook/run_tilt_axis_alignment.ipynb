{
 "cells": [
  {
   "cell_type": "code",
   "execution_count": null,
   "id": "ebd9dc09-1c5d-459a-aedd-d4d899c37bab",
   "metadata": {},
   "outputs": [],
   "source": [
    "import numpy as np\n",
    "import matplotlib.pyplot as plt\n",
    "from CAETomo.alignment import slice_viewer, tilt_series_alignment"
   ]
  },
  {
   "cell_type": "code",
   "execution_count": null,
   "id": "40b433aa-88b7-40d0-821c-4f2c7baf39ea",
   "metadata": {},
   "outputs": [],
   "source": [
    "from tkinter import Tk\n",
    "import tkinter.filedialog as tkf\n",
    "root = Tk()\n",
    "root.attributes('-topmost', True)  # Display the dialog in the foreground.\n",
    "root.iconify()\n",
    "\n",
    "ref_adr = tkf.askopenfilename()\n",
    "print(ref_adr)\n",
    "\n",
    "child_adr = None"
   ]
  },
  {
   "cell_type": "code",
   "execution_count": null,
   "id": "dbd62bc4-e826-486b-9f26-7d9ca622b1d5",
   "metadata": {},
   "outputs": [],
   "source": [
    "child_adr = tkf.askopenfilenames()\n",
    "print(*child_adr, sep=\"\\n\")"
   ]
  },
  {
   "cell_type": "code",
   "execution_count": null,
   "id": "57da3690-6524-4b3d-9f62-965317da37f2",
   "metadata": {},
   "outputs": [],
   "source": [
    "angles_deg = np.linspace(-60, 50, 12)\n",
    "print(angles_deg)\n",
    "\n",
    "angles = angles_deg * np.pi / 180"
   ]
  },
  {
   "cell_type": "code",
   "execution_count": null,
   "id": "22abd86c-18c0-486a-9a70-ecffd72a3638",
   "metadata": {},
   "outputs": [],
   "source": [
    "align = tilt_series_alignment(ref_adr, angles, img_adr=child_adr)"
   ]
  },
  {
   "cell_type": "code",
   "execution_count": null,
   "id": "79d235dd-ac87-4a62-bc03-8b3a56c553da",
   "metadata": {},
   "outputs": [],
   "source": [
    "%matplotlib widget\n",
    "fig, ax = plt.subplots(1, 1, figsize=(5, 5))\n",
    "\n",
    "tracker = slice_viewer(ax, align.data)\n",
    "\n",
    "fig.canvas.mpl_connect(\"key_press_event\", tracker.on_press)\n",
    "fig.tight_layout()\n",
    "plt.show()"
   ]
  },
  {
   "cell_type": "code",
   "execution_count": null,
   "id": "b5a51e44-0bda-4dd4-9151-514f20b27d95",
   "metadata": {},
   "outputs": [],
   "source": [
    "align.prepare_alignment(pad=0)"
   ]
  },
  {
   "cell_type": "code",
   "execution_count": null,
   "id": "dd04b4fc-70c8-4147-896e-4dbada0d4e23",
   "metadata": {},
   "outputs": [],
   "source": [
    "%matplotlib widget\n",
    "align.filter_adjust()"
   ]
  },
  {
   "cell_type": "code",
   "execution_count": null,
   "id": "6f715584",
   "metadata": {},
   "outputs": [],
   "source": [
    "%matplotlib inline\n",
    "align.calculate_shift()"
   ]
  },
  {
   "cell_type": "code",
   "execution_count": null,
   "id": "c1003e63-84bd-46e9-a4f9-d30449cca56b",
   "metadata": {},
   "outputs": [],
   "source": [
    "align.apply_alignment()"
   ]
  },
  {
   "cell_type": "code",
   "execution_count": null,
   "id": "0c11d692-b06f-494c-b744-e29e41cda441",
   "metadata": {},
   "outputs": [],
   "source": [
    "%matplotlib widget\n",
    "fig, ax = plt.subplots(1, 1, figsize=(5, 5))\n",
    "\n",
    "tracker = slice_viewer(ax, align.aligned_p)\n",
    "\n",
    "fig.canvas.mpl_connect(\"key_press_event\", tracker.on_press)\n",
    "fig.tight_layout()\n",
    "plt.show()"
   ]
  },
  {
   "cell_type": "code",
   "execution_count": null,
   "id": "b5eea484-2992-4222-8721-30807f0cc082",
   "metadata": {},
   "outputs": [],
   "source": [
    "# align one more time\n",
    "%matplotlib widget\n",
    "align.repeat()"
   ]
  },
  {
   "cell_type": "code",
   "execution_count": null,
   "id": "9a0f2f56",
   "metadata": {},
   "outputs": [],
   "source": [
    "%matplotlib inline\n",
    "align.calculate_shift()"
   ]
  },
  {
   "cell_type": "code",
   "execution_count": null,
   "id": "d976dd79-d007-4974-8806-08ae998ba048",
   "metadata": {},
   "outputs": [],
   "source": [
    "align.apply_alignment()"
   ]
  },
  {
   "cell_type": "code",
   "execution_count": null,
   "id": "23a3b53f-5720-408a-b321-fcd8fbc66929",
   "metadata": {},
   "outputs": [],
   "source": [
    "align.save_result()"
   ]
  }
 ],
 "metadata": {
  "kernelspec": {
   "display_name": "Python 3 (ipykernel)",
   "language": "python",
   "name": "python3"
  },
  "language_info": {
   "codemirror_mode": {
    "name": "ipython",
    "version": 3
   },
   "file_extension": ".py",
   "mimetype": "text/x-python",
   "name": "python",
   "nbconvert_exporter": "python",
   "pygments_lexer": "ipython3",
   "version": "3.11.9"
  }
 },
 "nbformat": 4,
 "nbformat_minor": 5
}
