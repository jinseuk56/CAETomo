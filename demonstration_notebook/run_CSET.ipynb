{
 "cells": [
  {
   "cell_type": "code",
   "execution_count": null,
   "id": "1b67ef0d-b894-4044-9aa0-ee1fcdf513db",
   "metadata": {},
   "outputs": [],
   "source": [
    "import numpy as np\n",
    "from CAETomo.reconstruction import CSET"
   ]
  },
  {
   "cell_type": "code",
   "execution_count": null,
   "id": "52029f10-bdc5-4c8f-b2af-d29874491e40",
   "metadata": {},
   "outputs": [],
   "source": [
    "import torch\n",
    "if torch.cuda.is_available():\n",
    "    print(\"%d gpu available\"%(torch.cuda.device_count()))\n",
    "    cuda_device = torch.device(\"cuda:0\")\n",
    "    print(torch.cuda.get_device_name(cuda_device))\n",
    "    torch.cuda.set_device(cuda_device)\n",
    "else:\n",
    "    cuda_device = None"
   ]
  },
  {
   "cell_type": "code",
   "execution_count": null,
   "id": "ab6bca94-4147-43fb-a34c-9431ecfa98dd",
   "metadata": {},
   "outputs": [],
   "source": [
    "from tkinter import Tk\n",
    "import tkinter.filedialog as tkf\n",
    "root = Tk()\n",
    "root.attributes('-topmost', True)  # Display the dialog in the foreground.\n",
    "root.iconify()\n",
    "\n",
    "ts_adr = tkf.askopenfilenames()\n",
    "print(len(ts_adr))\n",
    "print(*ts_adr, sep=\"\\n\")"
   ]
  },
  {
   "cell_type": "code",
   "execution_count": null,
   "id": "d679ba74-51c3-4b62-8cf6-13f9aa380006",
   "metadata": {},
   "outputs": [],
   "source": [
    "ta = np.linspace(-70, 40, 12)\n",
    "print(ta)\n",
    "print(ta.shape)\n",
    "print(ta.dtype)\n",
    "ta = ta*np.pi/180"
   ]
  },
  {
   "cell_type": "code",
   "execution_count": null,
   "id": "a0d0fb76-1018-476a-9c38-5796fba4003b",
   "metadata": {},
   "outputs": [],
   "source": [
    "recon = CSET(ts_adr, ta, cuda_device=cuda_device)"
   ]
  },
  {
   "cell_type": "code",
   "execution_count": null,
   "id": "7017cb88-8db5-4dd5-ac21-9c366c47fbcb",
   "metadata": {},
   "outputs": [],
   "source": [
    "recon.NUFFT(pad_ratio=2.0, tilt_axis=\"horizontal\")"
   ]
  },
  {
   "cell_type": "code",
   "execution_count": null,
   "id": "0cd6dc09-1748-479e-abee-70c7a8753454",
   "metadata": {},
   "outputs": [],
   "source": [
    "recon.recontruct(n_iter=10, \n",
    "                 lmbd_l1=5E-4,\n",
    "                 lmbd_tv=3.0, \n",
    "                 l_rate=2E-5,\n",
    "                 save_result=True,\n",
    "                 save_adr=\"reconstructed_\")"
   ]
  }
 ],
 "metadata": {
  "kernelspec": {
   "display_name": "Python 3 (ipykernel)",
   "language": "python",
   "name": "python3"
  },
  "language_info": {
   "codemirror_mode": {
    "name": "ipython",
    "version": 3
   },
   "file_extension": ".py",
   "mimetype": "text/x-python",
   "name": "python",
   "nbconvert_exporter": "python",
   "pygments_lexer": "ipython3",
   "version": "3.11.9"
  }
 },
 "nbformat": 4,
 "nbformat_minor": 5
}
